{
 "cells": [
  {
   "cell_type": "markdown",
   "metadata": {},
   "source": [
    "# Yelp API Project\n",
    "\n",
    "\n",
    "## Introduction \n",
    "\n",
    "We've learned how to query the Yelp API, analyze JSON data and create basic visualizations. It's time to put those skills to work in order to create a project of your own! Taking things a step further, you'll also independently explore how to perform pagination in order to retrieve a full results set from the Yelp API.\n",
    "\n",
    "## Objectives\n",
    "\n",
    "You will be able to: \n",
    "\n",
    "* Practice using functions to organize your code\n",
    "* Use pagination to retrieve all results from an API query\n",
    "* Practice parsing data returned from an API query\n",
    "* Practice interpreting visualizations of a dataset"
   ]
  },
  {
   "cell_type": "markdown",
   "metadata": {},
   "source": [
    "# Task: Query Yelp for All Businesses in a Category and Analyze the Results\n",
    "\n",
    "![restaurant counter with pizza](images/restaurant_counter.jpg)\n",
    "\n",
    "Photo by <a href=\"https://unsplash.com/@jordanmadrid?utm_source=unsplash&utm_medium=referral&utm_content=creditCopyText\">Jordan Madrid</a> on <a href=\"/s/photos/pizza-restaurant?utm_source=unsplash&utm_medium=referral&utm_content=creditCopyText\">Unsplash</a>"
   ]
  },
  {
   "cell_type": "markdown",
   "metadata": {},
   "source": [
    "## Overview\n",
    "\n",
    "You've now worked with some API calls, but we have yet to see how to retrieve a more complete dataset in a programmatic manner. In this lab, you will write a query of businesses on Yelp, then use *pagination* to retrieve all possible results for that query. Then you will pre-process and analyze your data, leading to a presentation of your findings.\n",
    "\n",
    "## Requirements\n",
    "\n",
    "### 1. Make the Initial Request\n",
    "\n",
    "Start by filling in your API key to make the initial request to the business search API. \n",
    "\n",
    "### 2. Add Pagination\n",
    "\n",
    "Using loops and functions, collect the maximum number of results for your query from the API.\n",
    "\n",
    "### 3. Prepare Data\n",
    "\n",
    "Investigate the structure of the response you get back and extract the relevant information.\n",
    "\n",
    "### 4. Perform Descriptive Analysis\n",
    "\n",
    "Interpret visualizations related to the price range, average rating, and number of reviews for all query results.\n",
    "\n",
    "### 5. Create Presentation Notebook\n",
    "\n",
    "Edit this notebook or create a new one to showcase your work."
   ]
  },
  {
   "cell_type": "markdown",
   "metadata": {},
   "source": [
    "# 1. Make the Initial Request\n",
    "\n",
    "## Querying\n",
    "\n",
    "Start by making an initial request to the Yelp API. Your search must include at least 2 parameters: **term** and **location**. For example, you might search for pizza restaurants in NYC. The term and location is up to you but make the request below.\n",
    "\n",
    "Use the `requests` library ([documentation here](https://requests.readthedocs.io/en/master/user/quickstart/#make-a-request)).\n",
    "\n",
    "You'll also need an API key from Yelp. If you haven't done this already, go to the Yelp [Manage App page](https://www.yelp.com/developers/v3/manage_app) and create a new app (after making an account if you haven't already)."
   ]
  },
  {
   "cell_type": "code",
   "execution_count": 1,
   "metadata": {},
   "outputs": [],
   "source": [
    "import json\n",
    "\n",
    "def get_keys(path):\n",
    "    with open(path) as f:\n",
    "        return json.load(f)"
   ]
  },
  {
   "cell_type": "code",
   "execution_count": 2,
   "metadata": {},
   "outputs": [],
   "source": [
    "# Import the requests library\n",
    "import requests\n",
    "\n",
    "# Get this from the \"Manage App\" page. Make sure you set them\n",
    "# back to None before pushing this to GitHub, since otherwise\n",
    "# your credentials will be compromised\n",
    "keys = None\n",
    "api_key = None\n",
    "\n",
    "# These can be whatever you want! But the solution uses \"pizza\"\n",
    "# and \"New York NY\" if you want to compare your work directly\n",
    "term = 'Vegan'\n",
    "location = 'Melbourne Victoria'\n",
    "\n",
    "# Set up params for request\n",
    "url = \"https://api.yelp.com/v3/businesses/search\"\n",
    "headers = {\n",
    "    \"Authorization\": \"Bearer {}\".format(api_key)\n",
    "}\n",
    "url_params = {\n",
    "    \"term\": term.replace(\" \", \"+\"),\n",
    "    \"location\": location.replace(\" \", \"+\")\n",
    "}\n",
    "\n",
    "# Make the request using requests.get, passing in\n",
    "# url, headers=headers, and params=url_params\n",
    "response = requests.get(url, headers=headers, params=url_params)\n",
    "\n",
    "# Confirm we got a 200 response\n",
    "# response"
   ]
  },
  {
   "cell_type": "code",
   "execution_count": 3,
   "metadata": {},
   "outputs": [
    {
     "name": "stdout",
     "output_type": "stream",
     "text": [
      "<Response [200]>\n",
      "<class 'str'>\n",
      "{\"businesses\": [{\"id\": \"_Jwlc4xCnkoHy9hF7KSdEA\", \"alias\": \"the-vegan-collective-melbourne\", \"name\": \"The Vegan Collective\", \"image_url\": \"https://s3-media3.fl.yelpcdn.com/bphoto/hfPeNy0ZIlO3NlYIMSNbHA/o.jpg\", \"is_closed\": false, \"url\": \"https://www.yelp.com/biz/the-vegan-collective-melbourne?adjust_creative=Ypj5xn5sCfFlkFO-7u7cNQ&utm_campaign=yelp_api_v3&utm_medium=api_v3_business_search&utm_source=Ypj5xn5sCfFlkFO-7u7cNQ\", \"review_count\": 2, \"categories\": [{\"alias\": \"vegan\", \"title\": \"Vegan\"}, {\"alias\": \"vegetarian\", \"title\": \"Vegetarian\"}], \"rating\": 4.0, \"coordinates\": {\"latitude\": -37.8069736299339, \"longitude\": 144.958866398673}, \"transactions\": [], \"location\": {\"address1\": \"Queen Victoria Night Market\", \"address2\": \"513 Elizabeth Street\", \"address3\": null, \"city\": \"Melbourne\", \"zip_code\": \"3004\", \"country\": \"AU\", \"state\": \"VIC\", \"display_address\": [\"Queen Victoria Night Market\", \"513 Elizabeth Street\", \"Melbourne Victoria 3004\", \"Australia\"]}, \"phone\": \"\", \"display_phone\": \"\", \"di\n"
     ]
    }
   ],
   "source": [
    "print(response)\n",
    "print(type(response.text))\n",
    "print(response.text[:1000])"
   ]
  },
  {
   "cell_type": "code",
   "execution_count": 4,
   "metadata": {},
   "outputs": [
    {
     "data": {
      "text/plain": [
       "dict_keys(['businesses', 'total', 'region'])"
      ]
     },
     "execution_count": 4,
     "metadata": {},
     "output_type": "execute_result"
    }
   ],
   "source": [
    "# Run this cell without changes\n",
    "\n",
    "# Get the response body in JSON format\n",
    "response_json = response.json()\n",
    "# View the keys\n",
    "response_json.keys()"
   ]
  },
  {
   "cell_type": "code",
   "execution_count": 5,
   "metadata": {},
   "outputs": [
    {
     "data": {
      "text/plain": [
       "dict"
      ]
     },
     "execution_count": 5,
     "metadata": {},
     "output_type": "execute_result"
    }
   ],
   "source": [
    "type(response_json)"
   ]
  },
  {
   "cell_type": "code",
   "execution_count": 6,
   "metadata": {},
   "outputs": [
    {
     "name": "stdout",
     "output_type": "stream",
     "text": [
      "businesses\n",
      "<class 'list'>\n",
      "\n",
      "\n",
      "total\n",
      "<class 'int'>\n",
      "\n",
      "\n",
      "region\n",
      "<class 'dict'>\n",
      "\n",
      "\n"
     ]
    }
   ],
   "source": [
    "for key in response.json().keys():\n",
    "    print(key)\n",
    "    value = response.json()[key] #Use standard dictionary formatting\n",
    "    print(type(value)) #What type is it?\n",
    "    print('\\n') #Separate out data"
   ]
  },
  {
   "cell_type": "markdown",
   "metadata": {},
   "source": [
    "## Extracting Data\n",
    "\n",
    "Now, retrieve the value associated with the `'businesses'` key, and inspect its contents."
   ]
  },
  {
   "cell_type": "code",
   "execution_count": 7,
   "metadata": {},
   "outputs": [
    {
     "data": {
      "text/plain": [
       "[{'id': '_Jwlc4xCnkoHy9hF7KSdEA',\n",
       "  'alias': 'the-vegan-collective-melbourne',\n",
       "  'name': 'The Vegan Collective',\n",
       "  'image_url': 'https://s3-media3.fl.yelpcdn.com/bphoto/hfPeNy0ZIlO3NlYIMSNbHA/o.jpg',\n",
       "  'is_closed': False,\n",
       "  'url': 'https://www.yelp.com/biz/the-vegan-collective-melbourne?adjust_creative=Ypj5xn5sCfFlkFO-7u7cNQ&utm_campaign=yelp_api_v3&utm_medium=api_v3_business_search&utm_source=Ypj5xn5sCfFlkFO-7u7cNQ',\n",
       "  'review_count': 2,\n",
       "  'categories': [{'alias': 'vegan', 'title': 'Vegan'},\n",
       "   {'alias': 'vegetarian', 'title': 'Vegetarian'}],\n",
       "  'rating': 4.0,\n",
       "  'coordinates': {'latitude': -37.8069736299339,\n",
       "   'longitude': 144.958866398673},\n",
       "  'transactions': [],\n",
       "  'location': {'address1': 'Queen Victoria Night Market',\n",
       "   'address2': '513 Elizabeth Street',\n",
       "   'address3': None,\n",
       "   'city': 'Melbourne',\n",
       "   'zip_code': '3004',\n",
       "   'country': 'AU',\n",
       "   'state': 'VIC',\n",
       "   'display_address': ['Queen Victoria Night Market',\n",
       "    '513 Elizabeth Street',\n",
       "    'Melbourne Victoria 3004',\n",
       "    'Australia']},\n",
       "  'phone': '',\n",
       "  'display_phone': '',\n",
       "  'distance': 1422.8581098489647},\n",
       " {'id': 'EoAcCnx7HWAECRF5yYyyyQ',\n",
       "  'alias': 'vegan-shack-richmond',\n",
       "  'name': 'Vegan Shack',\n",
       "  'image_url': 'https://s3-media1.fl.yelpcdn.com/bphoto/FwrRtfzFCK0ILAkbSu_4IA/o.jpg',\n",
       "  'is_closed': False,\n",
       "  'url': 'https://www.yelp.com/biz/vegan-shack-richmond?adjust_creative=Ypj5xn5sCfFlkFO-7u7cNQ&utm_campaign=yelp_api_v3&utm_medium=api_v3_business_search&utm_source=Ypj5xn5sCfFlkFO-7u7cNQ',\n",
       "  'review_count': 2,\n",
       "  'categories': [{'alias': 'vegan', 'title': 'Vegan'},\n",
       "   {'alias': 'juicebars', 'title': 'Juice Bars & Smoothies'},\n",
       "   {'alias': 'icecream', 'title': 'Ice Cream & Frozen Yogurt'}],\n",
       "  'rating': 5.0,\n",
       "  'coordinates': {'latitude': -37.82597, 'longitude': 144.99904},\n",
       "  'transactions': [],\n",
       "  'location': {'address1': '264 Swan St',\n",
       "   'address2': None,\n",
       "   'address3': '',\n",
       "   'city': 'Richmond',\n",
       "   'zip_code': '3121',\n",
       "   'country': 'AU',\n",
       "   'state': 'VIC',\n",
       "   'display_address': ['264 Swan St', 'Richmond Victoria 3121', 'Australia']},\n",
       "  'phone': '',\n",
       "  'display_phone': '',\n",
       "  'distance': 2925.869738350305}]"
      ]
     },
     "execution_count": 7,
     "metadata": {},
     "output_type": "execute_result"
    }
   ],
   "source": [
    "response_json[\"businesses\"][:2] # looking at first two elemnts in the list. \n"
   ]
  },
  {
   "cell_type": "code",
   "execution_count": 8,
   "metadata": {
    "scrolled": true
   },
   "outputs": [
    {
     "name": "stdout",
     "output_type": "stream",
     "text": [
      "There are 20 businesses in this response\n"
     ]
    },
    {
     "data": {
      "text/plain": [
       "[{'id': '_Jwlc4xCnkoHy9hF7KSdEA',\n",
       "  'alias': 'the-vegan-collective-melbourne',\n",
       "  'name': 'The Vegan Collective',\n",
       "  'image_url': 'https://s3-media3.fl.yelpcdn.com/bphoto/hfPeNy0ZIlO3NlYIMSNbHA/o.jpg',\n",
       "  'is_closed': False,\n",
       "  'url': 'https://www.yelp.com/biz/the-vegan-collective-melbourne?adjust_creative=Ypj5xn5sCfFlkFO-7u7cNQ&utm_campaign=yelp_api_v3&utm_medium=api_v3_business_search&utm_source=Ypj5xn5sCfFlkFO-7u7cNQ',\n",
       "  'review_count': 2,\n",
       "  'categories': [{'alias': 'vegan', 'title': 'Vegan'},\n",
       "   {'alias': 'vegetarian', 'title': 'Vegetarian'}],\n",
       "  'rating': 4.0,\n",
       "  'coordinates': {'latitude': -37.8069736299339,\n",
       "   'longitude': 144.958866398673},\n",
       "  'transactions': [],\n",
       "  'location': {'address1': 'Queen Victoria Night Market',\n",
       "   'address2': '513 Elizabeth Street',\n",
       "   'address3': None,\n",
       "   'city': 'Melbourne',\n",
       "   'zip_code': '3004',\n",
       "   'country': 'AU',\n",
       "   'state': 'VIC',\n",
       "   'display_address': ['Queen Victoria Night Market',\n",
       "    '513 Elizabeth Street',\n",
       "    'Melbourne Victoria 3004',\n",
       "    'Australia']},\n",
       "  'phone': '',\n",
       "  'display_phone': '',\n",
       "  'distance': 1422.8581098489647},\n",
       " {'id': 'EoAcCnx7HWAECRF5yYyyyQ',\n",
       "  'alias': 'vegan-shack-richmond',\n",
       "  'name': 'Vegan Shack',\n",
       "  'image_url': 'https://s3-media1.fl.yelpcdn.com/bphoto/FwrRtfzFCK0ILAkbSu_4IA/o.jpg',\n",
       "  'is_closed': False,\n",
       "  'url': 'https://www.yelp.com/biz/vegan-shack-richmond?adjust_creative=Ypj5xn5sCfFlkFO-7u7cNQ&utm_campaign=yelp_api_v3&utm_medium=api_v3_business_search&utm_source=Ypj5xn5sCfFlkFO-7u7cNQ',\n",
       "  'review_count': 2,\n",
       "  'categories': [{'alias': 'vegan', 'title': 'Vegan'},\n",
       "   {'alias': 'juicebars', 'title': 'Juice Bars & Smoothies'},\n",
       "   {'alias': 'icecream', 'title': 'Ice Cream & Frozen Yogurt'}],\n",
       "  'rating': 5.0,\n",
       "  'coordinates': {'latitude': -37.82597, 'longitude': 144.99904},\n",
       "  'transactions': [],\n",
       "  'location': {'address1': '264 Swan St',\n",
       "   'address2': None,\n",
       "   'address3': '',\n",
       "   'city': 'Richmond',\n",
       "   'zip_code': '3121',\n",
       "   'country': 'AU',\n",
       "   'state': 'VIC',\n",
       "   'display_address': ['264 Swan St', 'Richmond Victoria 3121', 'Australia']},\n",
       "  'phone': '',\n",
       "  'display_phone': '',\n",
       "  'distance': 2925.869738350305}]"
      ]
     },
     "execution_count": 8,
     "metadata": {},
     "output_type": "execute_result"
    }
   ],
   "source": [
    "# Replace None with appropriate code\n",
    "\n",
    "# Retrieve the value from response_json\n",
    "businesses = response_json['businesses']\n",
    "\n",
    "# View number of records\n",
    "print(f\"There are {len(businesses)} businesses in this response\")\n",
    "\n",
    "# View the first 2 records\n",
    "businesses[:2]"
   ]
  },
  {
   "cell_type": "markdown",
   "metadata": {},
   "source": [
    "# 2. Add Pagination\n",
    "\n",
    "Now that you are able to get one set of responses, known as a **page**, let's figure out how to request as many pages as possible.\n",
    "\n",
    "## Technical Details\n",
    "\n",
    "Returning to the Yelp API, the [documentation](https://www.yelp.com/developers/documentation/v3/business_search) also provides us details regarding the **API limits**. These often include details about the number of requests a user is allowed to make within a specified time limit and the maximum number of results to be returned. In this case, we are told that any request has a **maximum of 50 results per request** and defaults to 20. Furthermore, any search will be limited to a **total of 1000 results**. To retrieve all 1000 of these results, we would have to page through the results piece by piece, retrieving 50 at a time. Processes such as these are often referred to as pagination.\n",
    "\n",
    "Also, be mindful of the **API** ***rate*** **limits**. You can only make **5000 requests per day** and are also can make requests too fast. Start prototyping small before running a loop that could be faulty. You can also use `time.sleep(n)` to add delays. For more details see https://www.yelp.com/developers/documentation/v3/rate_limiting.\n",
    "\n",
    "In this lab, you will define a search and then paginate over the results to retrieve all of the results. You'll then parse these responses as a list of dictionaries (for further exploration) and create a map using Folium to visualize the results geographically.\n",
    "\n",
    "## Determining the Total\n",
    "\n",
    "Depending on the number of total results for your query, you will either retrieve all of the results, or just the first 1000 (if there are more than 1000 total).\n",
    "\n",
    "We can find the total number of results using the `\"total\"` key:"
   ]
  },
  {
   "cell_type": "code",
   "execution_count": 9,
   "metadata": {},
   "outputs": [
    {
     "data": {
      "text/plain": [
       "628"
      ]
     },
     "execution_count": 9,
     "metadata": {},
     "output_type": "execute_result"
    }
   ],
   "source": [
    "# Run this cell without changes\n",
    "response_json[\"total\"]"
   ]
  },
  {
   "cell_type": "code",
   "execution_count": 10,
   "metadata": {},
   "outputs": [
    {
     "data": {
      "text/plain": [
       "int"
      ]
     },
     "execution_count": 10,
     "metadata": {},
     "output_type": "execute_result"
    }
   ],
   "source": [
    "type(response_json[\"total\"])"
   ]
  },
  {
   "cell_type": "markdown",
   "metadata": {},
   "source": [
    "(This is specific to the implementation of the Yelp API. Some APIs will just tell you that there are more pages, or will tell you the number of pages total, rather than the total number of results. If you're not sure, always check the documentation.)\n",
    "\n",
    "In the cell below, assign the variable `total` to either the value shown above (if it is less than 1000), or 1000."
   ]
  },
  {
   "cell_type": "code",
   "execution_count": 11,
   "metadata": {},
   "outputs": [],
   "source": [
    "# Replace None with appropriate code\n",
    "total = 628"
   ]
  },
  {
   "cell_type": "markdown",
   "metadata": {},
   "source": [
    "### Calculating the Offsets\n",
    "\n",
    "The documentation states in the parameters section:\n",
    "\n",
    "> **Name**: `limit`, **Type:** int, **Description:** Optional. Number of business results to return. By default, it will return 20. Maximum is 50.\n",
    "\n",
    "> **Name**: `offset`, **Type:** int, **Description:** Optional. Offset the list of returned business results by this amount.\n",
    "\n",
    "So, to get the most results with the fewest API calls we want to set a limit of 50 every time. If, say, we wanted to get 210 total results, that would mean:\n",
    "\n",
    "1. Offset of `0` (first 50 records)\n",
    "2. Offset of `50` (second 50 records)\n",
    "3. Offset of `100` (third 50 records)\n",
    "4. Offset of `150` (fourth 50 records)\n",
    "5. Offset of `200` (final 10 records)\n",
    "\n",
    "In the cell below, create a function `get_offsets` that takes in a total and returns a list of offsets for that total. You can assume that there is a limit of 50 every time.\n",
    "\n",
    "*Hint: you can use `range` ([documentation here](https://docs.python.org/3.3/library/stdtypes.html?highlight=range#range)) to do this in one line of code. Just make the returned result is a list.*"
   ]
  },
  {
   "cell_type": "code",
   "execution_count": 12,
   "metadata": {},
   "outputs": [],
   "source": [
    "# Replace None with appropriate code\n",
    "def get_offsets(total):\n",
    "    \"\"\"\n",
    "    Get a list of offsets needed to get all pages\n",
    "    of data up until the total\n",
    "    \"\"\"\n",
    "    return list(range(0, (total), 50))"
   ]
  },
  {
   "cell_type": "code",
   "execution_count": 13,
   "metadata": {},
   "outputs": [
    {
     "data": {
      "text/plain": [
       "[0, 50, 100, 150, 200, 250, 300, 350, 400, 450, 500, 550, 600]"
      ]
     },
     "execution_count": 13,
     "metadata": {},
     "output_type": "execute_result"
    }
   ],
   "source": [
    "get_offsets(total) # Check if the def above works"
   ]
  },
  {
   "cell_type": "markdown",
   "metadata": {},
   "source": [
    "Check that your function works below:"
   ]
  },
  {
   "cell_type": "code",
   "execution_count": 14,
   "metadata": {},
   "outputs": [
    {
     "data": {
      "text/plain": [
       "[0, 50, 100, 150, 200, 250, 300, 350, 400, 450, 500, 550, 600]"
      ]
     },
     "execution_count": 14,
     "metadata": {},
     "output_type": "execute_result"
    }
   ],
   "source": [
    "get_offsets(628) # Check against the total"
   ]
  },
  {
   "cell_type": "code",
   "execution_count": 15,
   "metadata": {},
   "outputs": [],
   "source": [
    "# Run this cell without changes\n",
    "\n",
    "assert get_offsets(200) == [0, 50, 100, 150]\n",
    "assert get_offsets(210) == [0, 50, 100, 150, 200]"
   ]
  },
  {
   "cell_type": "markdown",
   "metadata": {},
   "source": [
    "### Putting It All Together\n",
    "\n",
    "Recall that the following variable has already been declared for you:"
   ]
  },
  {
   "cell_type": "code",
   "execution_count": 16,
   "metadata": {},
   "outputs": [
    {
     "data": {
      "text/plain": [
       "{'term': 'Vegan', 'location': 'Melbourne+Victoria'}"
      ]
     },
     "execution_count": 16,
     "metadata": {},
     "output_type": "execute_result"
    }
   ],
   "source": [
    "# Run this cell without changes\n",
    "url_params"
   ]
  },
  {
   "cell_type": "markdown",
   "metadata": {},
   "source": [
    "We'll go ahead and also specify that the limit should be 50 every time:"
   ]
  },
  {
   "cell_type": "code",
   "execution_count": 17,
   "metadata": {},
   "outputs": [],
   "source": [
    "# Run this cell without changes\n",
    "url_params[\"limit\"] = 50"
   ]
  },
  {
   "cell_type": "code",
   "execution_count": 18,
   "metadata": {},
   "outputs": [
    {
     "data": {
      "text/plain": [
       "dict_keys(['term', 'location', 'limit'])"
      ]
     },
     "metadata": {},
     "output_type": "display_data"
    },
    {
     "data": {
      "text/plain": [
       "dict_values(['Vegan', 'Melbourne+Victoria', 50])"
      ]
     },
     "metadata": {},
     "output_type": "display_data"
    }
   ],
   "source": [
    "display(url_params.keys())\n",
    "display(url_params.values())"
   ]
  },
  {
   "cell_type": "markdown",
   "metadata": {},
   "source": [
    "In order to modify the offset, you'll need to add it to `url_params` with the key `\"offset\"` and whatever value is needed.\n",
    "\n",
    "In the cell below, write code that:\n",
    "\n",
    "* Creates an empty list for the full prepared dataset\n",
    "* Loops over all of the offsets from `get_offsets` and makes an API call each time with the specified offset\n",
    "* Extends the full dataset list with each query's dataset"
   ]
  },
  {
   "cell_type": "code",
   "execution_count": 19,
   "metadata": {},
   "outputs": [
    {
     "data": {
      "text/plain": [
       "628"
      ]
     },
     "execution_count": 19,
     "metadata": {},
     "output_type": "execute_result"
    }
   ],
   "source": [
    "# Replace None with appropriate code\n",
    "\n",
    "# Create an empty list for the full prepared dataset\n",
    "full_dataset = []\n",
    "\n",
    "for offset in get_offsets(total):\n",
    "    \n",
    "    # Add or update the \"offset\" key-value pair in url_params\n",
    "    url_params['offset'] = offset\n",
    "\n",
    "    # Make the query and get the response\n",
    "    response = requests.get(url, headers=headers, params=url_params)\n",
    "    \n",
    "    # Get the response body in JSON format\n",
    "    response_json = response.json()\n",
    "    \n",
    "    # Get the list of businesses from the response_json\n",
    "    businesses = response_json['businesses']\n",
    "    \n",
    "    # Extend full_dataset with this list (don't append, or you'll get\n",
    "    # a list of lists instead of a flat list)\n",
    "    full_dataset.extend(businesses)\n",
    "\n",
    "# Check the length of the full dataset. It will be up to `total`,\n",
    "# potentially less if there were missing values\n",
    "len(full_dataset)"
   ]
  },
  {
   "cell_type": "markdown",
   "metadata": {},
   "source": [
    "This code may take up to a few minutes to run.\n",
    "\n",
    "If you get an error trying to get the response body in JSON format, try adding `time.sleep(1)` right after the `requests.get` line, so your code will sleep for 1 second between each API call."
   ]
  },
  {
   "cell_type": "markdown",
   "metadata": {},
   "source": [
    "# 3. Prepare Data\n",
    "\n",
    "Now that we have all of our data, let's prepare it for analysis. It can be helpful to start this process by inspecting the raw data."
   ]
  },
  {
   "cell_type": "code",
   "execution_count": 21,
   "metadata": {
    "scrolled": true
   },
   "outputs": [
    {
     "data": {
      "text/plain": [
       "[{'id': '_Jwlc4xCnkoHy9hF7KSdEA',\n",
       "  'alias': 'the-vegan-collective-melbourne',\n",
       "  'name': 'The Vegan Collective',\n",
       "  'image_url': 'https://s3-media3.fl.yelpcdn.com/bphoto/hfPeNy0ZIlO3NlYIMSNbHA/o.jpg',\n",
       "  'is_closed': False,\n",
       "  'url': 'https://www.yelp.com/biz/the-vegan-collective-melbourne?adjust_creative=Ypj5xn5sCfFlkFO-7u7cNQ&utm_campaign=yelp_api_v3&utm_medium=api_v3_business_search&utm_source=Ypj5xn5sCfFlkFO-7u7cNQ',\n",
       "  'review_count': 2,\n",
       "  'categories': [{'alias': 'vegan', 'title': 'Vegan'},\n",
       "   {'alias': 'vegetarian', 'title': 'Vegetarian'}],\n",
       "  'rating': 4.0,\n",
       "  'coordinates': {'latitude': -37.8069736299339,\n",
       "   'longitude': 144.958866398673},\n",
       "  'transactions': [],\n",
       "  'location': {'address1': 'Queen Victoria Night Market',\n",
       "   'address2': '513 Elizabeth Street',\n",
       "   'address3': None,\n",
       "   'city': 'Melbourne',\n",
       "   'zip_code': '3004',\n",
       "   'country': 'AU',\n",
       "   'state': 'VIC',\n",
       "   'display_address': ['Queen Victoria Night Market',\n",
       "    '513 Elizabeth Street',\n",
       "    'Melbourne Victoria 3004',\n",
       "    'Australia']},\n",
       "  'phone': '',\n",
       "  'display_phone': '',\n",
       "  'distance': 1422.8581098489647},\n",
       " {'id': 'EoAcCnx7HWAECRF5yYyyyQ',\n",
       "  'alias': 'vegan-shack-richmond',\n",
       "  'name': 'Vegan Shack',\n",
       "  'image_url': 'https://s3-media1.fl.yelpcdn.com/bphoto/FwrRtfzFCK0ILAkbSu_4IA/o.jpg',\n",
       "  'is_closed': False,\n",
       "  'url': 'https://www.yelp.com/biz/vegan-shack-richmond?adjust_creative=Ypj5xn5sCfFlkFO-7u7cNQ&utm_campaign=yelp_api_v3&utm_medium=api_v3_business_search&utm_source=Ypj5xn5sCfFlkFO-7u7cNQ',\n",
       "  'review_count': 2,\n",
       "  'categories': [{'alias': 'vegan', 'title': 'Vegan'},\n",
       "   {'alias': 'juicebars', 'title': 'Juice Bars & Smoothies'},\n",
       "   {'alias': 'icecream', 'title': 'Ice Cream & Frozen Yogurt'}],\n",
       "  'rating': 5.0,\n",
       "  'coordinates': {'latitude': -37.82597, 'longitude': 144.99904},\n",
       "  'transactions': [],\n",
       "  'location': {'address1': '264 Swan St',\n",
       "   'address2': None,\n",
       "   'address3': '',\n",
       "   'city': 'Richmond',\n",
       "   'zip_code': '3121',\n",
       "   'country': 'AU',\n",
       "   'state': 'VIC',\n",
       "   'display_address': ['264 Swan St', 'Richmond Victoria 3121', 'Australia']},\n",
       "  'phone': '',\n",
       "  'display_phone': '',\n",
       "  'distance': 2925.869738350305}]"
      ]
     },
     "execution_count": 21,
     "metadata": {},
     "output_type": "execute_result"
    }
   ],
   "source": [
    "# Run this cell without changes\n",
    "\n",
    "# View the first 2 records \n",
    "full_dataset[:2]"
   ]
  },
  {
   "cell_type": "code",
   "execution_count": 22,
   "metadata": {},
   "outputs": [
    {
     "name": "stdout",
     "output_type": "stream",
     "text": [
      "<class 'list'> \n",
      "\n",
      "628\n"
     ]
    }
   ],
   "source": [
    "print(type(full_dataset),\"\\n\")\n",
    "print(len(full_dataset))"
   ]
  },
  {
   "cell_type": "code",
   "execution_count": 23,
   "metadata": {},
   "outputs": [
    {
     "data": {
      "text/plain": [
       "[{'id': 'IVCgg_Fz1uHQQftb2ZaIxw',\n",
       "  'alias': 'prospect-espresso-camberwell',\n",
       "  'name': 'Prospect Espresso',\n",
       "  'image_url': 'https://s3-media4.fl.yelpcdn.com/bphoto/kfajBOx9NXdqYsO7M_YEJA/o.jpg',\n",
       "  'is_closed': False,\n",
       "  'url': 'https://www.yelp.com/biz/prospect-espresso-camberwell?adjust_creative=Ypj5xn5sCfFlkFO-7u7cNQ&utm_campaign=yelp_api_v3&utm_medium=api_v3_business_search&utm_source=Ypj5xn5sCfFlkFO-7u7cNQ',\n",
       "  'review_count': 21,\n",
       "  'categories': [{'alias': 'coffee', 'title': 'Coffee & Tea'},\n",
       "   {'alias': 'restaurants', 'title': 'Restaurants'}],\n",
       "  'rating': 4.0,\n",
       "  'coordinates': {'latitude': -37.828241, 'longitude': 145.057545},\n",
       "  'transactions': [],\n",
       "  'price': '$$',\n",
       "  'location': {'address1': '2a Prospect Hill Rd',\n",
       "   'address2': '',\n",
       "   'address3': '',\n",
       "   'city': 'Camberwell',\n",
       "   'zip_code': '3124',\n",
       "   'country': 'AU',\n",
       "   'state': 'VIC',\n",
       "   'display_address': ['2a Prospect Hill Rd',\n",
       "    'Camberwell Victoria 3124',\n",
       "    'Australia']},\n",
       "  'phone': '+61398827359',\n",
       "  'display_phone': '+61 3 9882 7359',\n",
       "  'distance': 8005.889746552332},\n",
       " {'id': 'rNeiB3ArLDpK3opU7eWQwQ',\n",
       "  'alias': 'coburg-farmers-market-coburg',\n",
       "  'name': \"Coburg Farmers' Market\",\n",
       "  'image_url': 'https://s3-media2.fl.yelpcdn.com/bphoto/wNTJdnfSw6DI2F4I8UijMw/o.jpg',\n",
       "  'is_closed': False,\n",
       "  'url': 'https://www.yelp.com/biz/coburg-farmers-market-coburg?adjust_creative=Ypj5xn5sCfFlkFO-7u7cNQ&utm_campaign=yelp_api_v3&utm_medium=api_v3_business_search&utm_source=Ypj5xn5sCfFlkFO-7u7cNQ',\n",
       "  'review_count': 4,\n",
       "  'categories': [{'alias': 'farmersmarket', 'title': 'Farmers Market'}],\n",
       "  'rating': 3.0,\n",
       "  'coordinates': {'latitude': -37.7411801, 'longitude': 144.9681964},\n",
       "  'transactions': [],\n",
       "  'location': {'address1': '92 Bell Street',\n",
       "   'address2': '',\n",
       "   'address3': '',\n",
       "   'city': 'Coburg',\n",
       "   'zip_code': '3058',\n",
       "   'country': 'AU',\n",
       "   'state': 'VIC',\n",
       "   'display_address': ['92 Bell Street', 'Coburg Victoria 3058', 'Australia']},\n",
       "  'phone': '+61394993400',\n",
       "  'display_phone': '+61 3 9499 3400',\n",
       "  'distance': 8528.505264152092}]"
      ]
     },
     "execution_count": 23,
     "metadata": {},
     "output_type": "execute_result"
    }
   ],
   "source": [
    "full_dataset[626:628] # Viewing the last 2 datasets as the first two don't have 'price' key"
   ]
  },
  {
   "cell_type": "code",
   "execution_count": 24,
   "metadata": {},
   "outputs": [
    {
     "data": {
      "text/plain": [
       "dict"
      ]
     },
     "execution_count": 24,
     "metadata": {},
     "output_type": "execute_result"
    }
   ],
   "source": [
    "type(full_dataset[626])"
   ]
  },
  {
   "cell_type": "code",
   "execution_count": 25,
   "metadata": {},
   "outputs": [
    {
     "name": "stdout",
     "output_type": "stream",
     "text": [
      "<class 'str'> \n",
      "\n",
      "<class 'int'> \n",
      "\n",
      "<class 'float'> \n",
      "\n",
      "<class 'str'> \n",
      "\n",
      "<class 'dict'>\n"
     ]
    }
   ],
   "source": [
    "print(type(full_dataset[626]['name']),\"\\n\")\n",
    "print(type(full_dataset[626]['review_count']),\"\\n\")\n",
    "print(type(full_dataset[626]['rating']),\"\\n\")\n",
    "print(type(full_dataset[626]['price']),\"\\n\")\n",
    "print(type(full_dataset[626]['coordinates']))"
   ]
  },
  {
   "cell_type": "code",
   "execution_count": 26,
   "metadata": {},
   "outputs": [
    {
     "name": "stdout",
     "output_type": "stream",
     "text": [
      "<class 'float'>\n",
      "<class 'float'>\n"
     ]
    }
   ],
   "source": [
    "print(type(full_dataset[626]['coordinates']['latitude']))\n",
    "print(type(full_dataset[626]['coordinates']['longitude']))"
   ]
  },
  {
   "cell_type": "code",
   "execution_count": 27,
   "metadata": {},
   "outputs": [
    {
     "name": "stdout",
     "output_type": "stream",
     "text": [
      "dict_keys(['id', 'alias', 'name', 'image_url', 'is_closed', 'url', 'review_count', 'categories', 'rating', 'coordinates', 'transactions', 'price', 'location', 'phone', 'display_phone', 'distance'])\n"
     ]
    }
   ],
   "source": [
    "print(full_dataset[626].keys())"
   ]
  },
  {
   "cell_type": "markdown",
   "metadata": {},
   "source": [
    "Write a function `prepare_data` that takes in a list of dictionaries like `businesses` and returns a copy that has been prepared for analysis:\n",
    "\n",
    "1. The `coordinates` key-value pair has been converted into two separate key-value pairs, `latitude` and `longitude`\n",
    "2. All other key-value pairs except for `name`, `review_count`, `rating`, and `price` have been dropped\n",
    "3. All dictionaries missing one of the relevant keys or containing null values have been dropped\n",
    "\n",
    "In other words, the final keys for each dictionary should be `name`, `review_count`, `rating`, `price`, `latitude`, and `longitude`.\n",
    "\n",
    "Complete the function in the cell below:"
   ]
  },
  {
   "cell_type": "code",
   "execution_count": 28,
   "metadata": {},
   "outputs": [],
   "source": [
    "# flatten JSON using pandas \n",
    "\n",
    "import pandas as pd\n",
    "\n",
    "business_df = pd.json_normalize(full_dataset, sep = \"_\")"
   ]
  },
  {
   "cell_type": "code",
   "execution_count": 29,
   "metadata": {},
   "outputs": [
    {
     "data": {
      "text/html": [
       "<div>\n",
       "<style scoped>\n",
       "    .dataframe tbody tr th:only-of-type {\n",
       "        vertical-align: middle;\n",
       "    }\n",
       "\n",
       "    .dataframe tbody tr th {\n",
       "        vertical-align: top;\n",
       "    }\n",
       "\n",
       "    .dataframe thead th {\n",
       "        text-align: right;\n",
       "    }\n",
       "</style>\n",
       "<table border=\"1\" class=\"dataframe\">\n",
       "  <thead>\n",
       "    <tr style=\"text-align: right;\">\n",
       "      <th></th>\n",
       "      <th>id</th>\n",
       "      <th>alias</th>\n",
       "      <th>name</th>\n",
       "      <th>image_url</th>\n",
       "      <th>is_closed</th>\n",
       "      <th>url</th>\n",
       "      <th>review_count</th>\n",
       "      <th>categories</th>\n",
       "      <th>rating</th>\n",
       "      <th>transactions</th>\n",
       "      <th>...</th>\n",
       "      <th>coordinates_longitude</th>\n",
       "      <th>location_address1</th>\n",
       "      <th>location_address2</th>\n",
       "      <th>location_address3</th>\n",
       "      <th>location_city</th>\n",
       "      <th>location_zip_code</th>\n",
       "      <th>location_country</th>\n",
       "      <th>location_state</th>\n",
       "      <th>location_display_address</th>\n",
       "      <th>price</th>\n",
       "    </tr>\n",
       "  </thead>\n",
       "  <tbody>\n",
       "    <tr>\n",
       "      <th>0</th>\n",
       "      <td>_Jwlc4xCnkoHy9hF7KSdEA</td>\n",
       "      <td>the-vegan-collective-melbourne</td>\n",
       "      <td>The Vegan Collective</td>\n",
       "      <td>https://s3-media3.fl.yelpcdn.com/bphoto/hfPeNy...</td>\n",
       "      <td>False</td>\n",
       "      <td>https://www.yelp.com/biz/the-vegan-collective-...</td>\n",
       "      <td>2</td>\n",
       "      <td>[{'alias': 'vegan', 'title': 'Vegan'}, {'alias...</td>\n",
       "      <td>4.0</td>\n",
       "      <td>[]</td>\n",
       "      <td>...</td>\n",
       "      <td>144.958866</td>\n",
       "      <td>Queen Victoria Night Market</td>\n",
       "      <td>513 Elizabeth Street</td>\n",
       "      <td>None</td>\n",
       "      <td>Melbourne</td>\n",
       "      <td>3004</td>\n",
       "      <td>AU</td>\n",
       "      <td>VIC</td>\n",
       "      <td>[Queen Victoria Night Market, 513 Elizabeth St...</td>\n",
       "      <td>NaN</td>\n",
       "    </tr>\n",
       "    <tr>\n",
       "      <th>1</th>\n",
       "      <td>EoAcCnx7HWAECRF5yYyyyQ</td>\n",
       "      <td>vegan-shack-richmond</td>\n",
       "      <td>Vegan Shack</td>\n",
       "      <td>https://s3-media1.fl.yelpcdn.com/bphoto/FwrRtf...</td>\n",
       "      <td>False</td>\n",
       "      <td>https://www.yelp.com/biz/vegan-shack-richmond?...</td>\n",
       "      <td>2</td>\n",
       "      <td>[{'alias': 'vegan', 'title': 'Vegan'}, {'alias...</td>\n",
       "      <td>5.0</td>\n",
       "      <td>[]</td>\n",
       "      <td>...</td>\n",
       "      <td>144.999040</td>\n",
       "      <td>264 Swan St</td>\n",
       "      <td>None</td>\n",
       "      <td></td>\n",
       "      <td>Richmond</td>\n",
       "      <td>3121</td>\n",
       "      <td>AU</td>\n",
       "      <td>VIC</td>\n",
       "      <td>[264 Swan St, Richmond Victoria 3121, Australia]</td>\n",
       "      <td>NaN</td>\n",
       "    </tr>\n",
       "    <tr>\n",
       "      <th>2</th>\n",
       "      <td>IHTtItos3YkfbJDAAG-dCg</td>\n",
       "      <td>supercharger-melbourne-6</td>\n",
       "      <td>Supercharger</td>\n",
       "      <td>https://s3-media1.fl.yelpcdn.com/bphoto/mnPHaA...</td>\n",
       "      <td>False</td>\n",
       "      <td>https://www.yelp.com/biz/supercharger-melbourn...</td>\n",
       "      <td>20</td>\n",
       "      <td>[{'alias': 'gluten_free', 'title': 'Gluten-Fre...</td>\n",
       "      <td>3.5</td>\n",
       "      <td>[]</td>\n",
       "      <td>...</td>\n",
       "      <td>144.963649</td>\n",
       "      <td>Level 3, Emporium</td>\n",
       "      <td>287 Lonsdale Street</td>\n",
       "      <td></td>\n",
       "      <td>Melbourne</td>\n",
       "      <td>3000</td>\n",
       "      <td>AU</td>\n",
       "      <td>VIC</td>\n",
       "      <td>[Level 3, Emporium, 287 Lonsdale Street, Melbo...</td>\n",
       "      <td>$</td>\n",
       "    </tr>\n",
       "    <tr>\n",
       "      <th>3</th>\n",
       "      <td>V9XP4z0g007lqp5-4VWmnw</td>\n",
       "      <td>seedling-cafe-melbourne-2</td>\n",
       "      <td>Seedling Cafe</td>\n",
       "      <td>https://s3-media2.fl.yelpcdn.com/bphoto/7fkNvC...</td>\n",
       "      <td>False</td>\n",
       "      <td>https://www.yelp.com/biz/seedling-cafe-melbour...</td>\n",
       "      <td>3</td>\n",
       "      <td>[{'alias': 'breakfast_brunch', 'title': 'Break...</td>\n",
       "      <td>4.5</td>\n",
       "      <td>[]</td>\n",
       "      <td>...</td>\n",
       "      <td>144.963280</td>\n",
       "      <td>349 Little Collins St</td>\n",
       "      <td></td>\n",
       "      <td>None</td>\n",
       "      <td>Melbourne</td>\n",
       "      <td>3000</td>\n",
       "      <td>AU</td>\n",
       "      <td>VIC</td>\n",
       "      <td>[349 Little Collins St, Melbourne Victoria 300...</td>\n",
       "      <td>NaN</td>\n",
       "    </tr>\n",
       "    <tr>\n",
       "      <th>4</th>\n",
       "      <td>EngUd-WJsoo5MO6v2PgJVg</td>\n",
       "      <td>supernormal-melbourne</td>\n",
       "      <td>Supernormal</td>\n",
       "      <td>https://s3-media2.fl.yelpcdn.com/bphoto/XiPEr-...</td>\n",
       "      <td>False</td>\n",
       "      <td>https://www.yelp.com/biz/supernormal-melbourne...</td>\n",
       "      <td>102</td>\n",
       "      <td>[{'alias': 'asianfusion', 'title': 'Asian Fusi...</td>\n",
       "      <td>4.5</td>\n",
       "      <td>[]</td>\n",
       "      <td>...</td>\n",
       "      <td>144.968263</td>\n",
       "      <td>180 Flinders Lane</td>\n",
       "      <td></td>\n",
       "      <td></td>\n",
       "      <td>Melbourne</td>\n",
       "      <td>3000</td>\n",
       "      <td>AU</td>\n",
       "      <td>VIC</td>\n",
       "      <td>[180 Flinders Lane, Melbourne Victoria 3000, A...</td>\n",
       "      <td>$$$</td>\n",
       "    </tr>\n",
       "  </tbody>\n",
       "</table>\n",
       "<p>5 rows × 24 columns</p>\n",
       "</div>"
      ],
      "text/plain": [
       "                       id                           alias  \\\n",
       "0  _Jwlc4xCnkoHy9hF7KSdEA  the-vegan-collective-melbourne   \n",
       "1  EoAcCnx7HWAECRF5yYyyyQ            vegan-shack-richmond   \n",
       "2  IHTtItos3YkfbJDAAG-dCg        supercharger-melbourne-6   \n",
       "3  V9XP4z0g007lqp5-4VWmnw       seedling-cafe-melbourne-2   \n",
       "4  EngUd-WJsoo5MO6v2PgJVg           supernormal-melbourne   \n",
       "\n",
       "                   name                                          image_url  \\\n",
       "0  The Vegan Collective  https://s3-media3.fl.yelpcdn.com/bphoto/hfPeNy...   \n",
       "1           Vegan Shack  https://s3-media1.fl.yelpcdn.com/bphoto/FwrRtf...   \n",
       "2          Supercharger  https://s3-media1.fl.yelpcdn.com/bphoto/mnPHaA...   \n",
       "3         Seedling Cafe  https://s3-media2.fl.yelpcdn.com/bphoto/7fkNvC...   \n",
       "4           Supernormal  https://s3-media2.fl.yelpcdn.com/bphoto/XiPEr-...   \n",
       "\n",
       "   is_closed                                                url  review_count  \\\n",
       "0      False  https://www.yelp.com/biz/the-vegan-collective-...             2   \n",
       "1      False  https://www.yelp.com/biz/vegan-shack-richmond?...             2   \n",
       "2      False  https://www.yelp.com/biz/supercharger-melbourn...            20   \n",
       "3      False  https://www.yelp.com/biz/seedling-cafe-melbour...             3   \n",
       "4      False  https://www.yelp.com/biz/supernormal-melbourne...           102   \n",
       "\n",
       "                                          categories  rating transactions  \\\n",
       "0  [{'alias': 'vegan', 'title': 'Vegan'}, {'alias...     4.0           []   \n",
       "1  [{'alias': 'vegan', 'title': 'Vegan'}, {'alias...     5.0           []   \n",
       "2  [{'alias': 'gluten_free', 'title': 'Gluten-Fre...     3.5           []   \n",
       "3  [{'alias': 'breakfast_brunch', 'title': 'Break...     4.5           []   \n",
       "4  [{'alias': 'asianfusion', 'title': 'Asian Fusi...     4.5           []   \n",
       "\n",
       "   ... coordinates_longitude            location_address1  \\\n",
       "0  ...            144.958866  Queen Victoria Night Market   \n",
       "1  ...            144.999040                  264 Swan St   \n",
       "2  ...            144.963649            Level 3, Emporium   \n",
       "3  ...            144.963280        349 Little Collins St   \n",
       "4  ...            144.968263            180 Flinders Lane   \n",
       "\n",
       "      location_address2  location_address3  location_city location_zip_code  \\\n",
       "0  513 Elizabeth Street               None      Melbourne              3004   \n",
       "1                  None                          Richmond              3121   \n",
       "2   287 Lonsdale Street                         Melbourne              3000   \n",
       "3                                     None      Melbourne              3000   \n",
       "4                                               Melbourne              3000   \n",
       "\n",
       "  location_country location_state  \\\n",
       "0               AU            VIC   \n",
       "1               AU            VIC   \n",
       "2               AU            VIC   \n",
       "3               AU            VIC   \n",
       "4               AU            VIC   \n",
       "\n",
       "                            location_display_address price  \n",
       "0  [Queen Victoria Night Market, 513 Elizabeth St...   NaN  \n",
       "1   [264 Swan St, Richmond Victoria 3121, Australia]   NaN  \n",
       "2  [Level 3, Emporium, 287 Lonsdale Street, Melbo...     $  \n",
       "3  [349 Little Collins St, Melbourne Victoria 300...   NaN  \n",
       "4  [180 Flinders Lane, Melbourne Victoria 3000, A...   $$$  \n",
       "\n",
       "[5 rows x 24 columns]"
      ]
     },
     "execution_count": 29,
     "metadata": {},
     "output_type": "execute_result"
    }
   ],
   "source": [
    "business_df.head()"
   ]
  },
  {
   "cell_type": "code",
   "execution_count": 30,
   "metadata": {},
   "outputs": [
    {
     "data": {
      "text/html": [
       "<div>\n",
       "<style scoped>\n",
       "    .dataframe tbody tr th:only-of-type {\n",
       "        vertical-align: middle;\n",
       "    }\n",
       "\n",
       "    .dataframe tbody tr th {\n",
       "        vertical-align: top;\n",
       "    }\n",
       "\n",
       "    .dataframe thead th {\n",
       "        text-align: right;\n",
       "    }\n",
       "</style>\n",
       "<table border=\"1\" class=\"dataframe\">\n",
       "  <thead>\n",
       "    <tr style=\"text-align: right;\">\n",
       "      <th></th>\n",
       "      <th>id</th>\n",
       "      <th>alias</th>\n",
       "      <th>name</th>\n",
       "      <th>image_url</th>\n",
       "      <th>is_closed</th>\n",
       "      <th>url</th>\n",
       "      <th>review_count</th>\n",
       "      <th>categories</th>\n",
       "      <th>rating</th>\n",
       "      <th>transactions</th>\n",
       "      <th>...</th>\n",
       "      <th>coordinates_longitude</th>\n",
       "      <th>location_address1</th>\n",
       "      <th>location_address2</th>\n",
       "      <th>location_address3</th>\n",
       "      <th>location_city</th>\n",
       "      <th>location_zip_code</th>\n",
       "      <th>location_country</th>\n",
       "      <th>location_state</th>\n",
       "      <th>location_display_address</th>\n",
       "      <th>price</th>\n",
       "    </tr>\n",
       "  </thead>\n",
       "  <tbody>\n",
       "    <tr>\n",
       "      <th>623</th>\n",
       "      <td>7E1jJgon5clUbROq_LIaqg</td>\n",
       "      <td>penny-farthing-espresso-northcote</td>\n",
       "      <td>Penny Farthing Espresso</td>\n",
       "      <td>https://s3-media4.fl.yelpcdn.com/bphoto/lOYZ2K...</td>\n",
       "      <td>False</td>\n",
       "      <td>https://www.yelp.com/biz/penny-farthing-espres...</td>\n",
       "      <td>17</td>\n",
       "      <td>[{'alias': 'restaurants', 'title': 'Restaurant...</td>\n",
       "      <td>4.0</td>\n",
       "      <td>[]</td>\n",
       "      <td>...</td>\n",
       "      <td>144.998307</td>\n",
       "      <td>206 High St</td>\n",
       "      <td>None</td>\n",
       "      <td>None</td>\n",
       "      <td>Northcote</td>\n",
       "      <td>3070</td>\n",
       "      <td>AU</td>\n",
       "      <td>VIC</td>\n",
       "      <td>[206 High St, Northcote Victoria 3070, Australia]</td>\n",
       "      <td>$$</td>\n",
       "    </tr>\n",
       "    <tr>\n",
       "      <th>624</th>\n",
       "      <td>3jldPNNuV8EjwIXcDmy61A</td>\n",
       "      <td>code-black-coffee-brunswick</td>\n",
       "      <td>Code Black Coffee</td>\n",
       "      <td>https://s3-media2.fl.yelpcdn.com/bphoto/mhao-_...</td>\n",
       "      <td>False</td>\n",
       "      <td>https://www.yelp.com/biz/code-black-coffee-bru...</td>\n",
       "      <td>32</td>\n",
       "      <td>[{'alias': 'cafes', 'title': 'Cafes'}, {'alias...</td>\n",
       "      <td>3.5</td>\n",
       "      <td>[]</td>\n",
       "      <td>...</td>\n",
       "      <td>144.962470</td>\n",
       "      <td>15-17 Weston St</td>\n",
       "      <td></td>\n",
       "      <td></td>\n",
       "      <td>Brunswick</td>\n",
       "      <td>3056</td>\n",
       "      <td>AU</td>\n",
       "      <td>VIC</td>\n",
       "      <td>[15-17 Weston St, Brunswick Victoria 3056, Aus...</td>\n",
       "      <td>$$</td>\n",
       "    </tr>\n",
       "    <tr>\n",
       "      <th>625</th>\n",
       "      <td>CqmBmVLsyvZKH4UyH72tzQ</td>\n",
       "      <td>caffe-la-via-malvern</td>\n",
       "      <td>Caffe La Via</td>\n",
       "      <td>https://s3-media3.fl.yelpcdn.com/bphoto/no640J...</td>\n",
       "      <td>False</td>\n",
       "      <td>https://www.yelp.com/biz/caffe-la-via-malvern?...</td>\n",
       "      <td>4</td>\n",
       "      <td>[{'alias': 'coffee', 'title': 'Coffee &amp; Tea'},...</td>\n",
       "      <td>3.5</td>\n",
       "      <td>[]</td>\n",
       "      <td>...</td>\n",
       "      <td>145.029225</td>\n",
       "      <td>252 Glenferrie Rd</td>\n",
       "      <td>None</td>\n",
       "      <td>None</td>\n",
       "      <td>Malvern</td>\n",
       "      <td>3144</td>\n",
       "      <td>AU</td>\n",
       "      <td>VIC</td>\n",
       "      <td>[252 Glenferrie Rd, Malvern Victoria 3144, Aus...</td>\n",
       "      <td>$$$</td>\n",
       "    </tr>\n",
       "    <tr>\n",
       "      <th>626</th>\n",
       "      <td>IVCgg_Fz1uHQQftb2ZaIxw</td>\n",
       "      <td>prospect-espresso-camberwell</td>\n",
       "      <td>Prospect Espresso</td>\n",
       "      <td>https://s3-media4.fl.yelpcdn.com/bphoto/kfajBO...</td>\n",
       "      <td>False</td>\n",
       "      <td>https://www.yelp.com/biz/prospect-espresso-cam...</td>\n",
       "      <td>21</td>\n",
       "      <td>[{'alias': 'coffee', 'title': 'Coffee &amp; Tea'},...</td>\n",
       "      <td>4.0</td>\n",
       "      <td>[]</td>\n",
       "      <td>...</td>\n",
       "      <td>145.057545</td>\n",
       "      <td>2a Prospect Hill Rd</td>\n",
       "      <td></td>\n",
       "      <td></td>\n",
       "      <td>Camberwell</td>\n",
       "      <td>3124</td>\n",
       "      <td>AU</td>\n",
       "      <td>VIC</td>\n",
       "      <td>[2a Prospect Hill Rd, Camberwell Victoria 3124...</td>\n",
       "      <td>$$</td>\n",
       "    </tr>\n",
       "    <tr>\n",
       "      <th>627</th>\n",
       "      <td>rNeiB3ArLDpK3opU7eWQwQ</td>\n",
       "      <td>coburg-farmers-market-coburg</td>\n",
       "      <td>Coburg Farmers' Market</td>\n",
       "      <td>https://s3-media2.fl.yelpcdn.com/bphoto/wNTJdn...</td>\n",
       "      <td>False</td>\n",
       "      <td>https://www.yelp.com/biz/coburg-farmers-market...</td>\n",
       "      <td>4</td>\n",
       "      <td>[{'alias': 'farmersmarket', 'title': 'Farmers ...</td>\n",
       "      <td>3.0</td>\n",
       "      <td>[]</td>\n",
       "      <td>...</td>\n",
       "      <td>144.968196</td>\n",
       "      <td>92 Bell Street</td>\n",
       "      <td></td>\n",
       "      <td></td>\n",
       "      <td>Coburg</td>\n",
       "      <td>3058</td>\n",
       "      <td>AU</td>\n",
       "      <td>VIC</td>\n",
       "      <td>[92 Bell Street, Coburg Victoria 3058, Australia]</td>\n",
       "      <td>NaN</td>\n",
       "    </tr>\n",
       "  </tbody>\n",
       "</table>\n",
       "<p>5 rows × 24 columns</p>\n",
       "</div>"
      ],
      "text/plain": [
       "                         id                              alias  \\\n",
       "623  7E1jJgon5clUbROq_LIaqg  penny-farthing-espresso-northcote   \n",
       "624  3jldPNNuV8EjwIXcDmy61A        code-black-coffee-brunswick   \n",
       "625  CqmBmVLsyvZKH4UyH72tzQ               caffe-la-via-malvern   \n",
       "626  IVCgg_Fz1uHQQftb2ZaIxw       prospect-espresso-camberwell   \n",
       "627  rNeiB3ArLDpK3opU7eWQwQ       coburg-farmers-market-coburg   \n",
       "\n",
       "                        name  \\\n",
       "623  Penny Farthing Espresso   \n",
       "624        Code Black Coffee   \n",
       "625             Caffe La Via   \n",
       "626        Prospect Espresso   \n",
       "627   Coburg Farmers' Market   \n",
       "\n",
       "                                             image_url  is_closed  \\\n",
       "623  https://s3-media4.fl.yelpcdn.com/bphoto/lOYZ2K...      False   \n",
       "624  https://s3-media2.fl.yelpcdn.com/bphoto/mhao-_...      False   \n",
       "625  https://s3-media3.fl.yelpcdn.com/bphoto/no640J...      False   \n",
       "626  https://s3-media4.fl.yelpcdn.com/bphoto/kfajBO...      False   \n",
       "627  https://s3-media2.fl.yelpcdn.com/bphoto/wNTJdn...      False   \n",
       "\n",
       "                                                   url  review_count  \\\n",
       "623  https://www.yelp.com/biz/penny-farthing-espres...            17   \n",
       "624  https://www.yelp.com/biz/code-black-coffee-bru...            32   \n",
       "625  https://www.yelp.com/biz/caffe-la-via-malvern?...             4   \n",
       "626  https://www.yelp.com/biz/prospect-espresso-cam...            21   \n",
       "627  https://www.yelp.com/biz/coburg-farmers-market...             4   \n",
       "\n",
       "                                            categories  rating transactions  \\\n",
       "623  [{'alias': 'restaurants', 'title': 'Restaurant...     4.0           []   \n",
       "624  [{'alias': 'cafes', 'title': 'Cafes'}, {'alias...     3.5           []   \n",
       "625  [{'alias': 'coffee', 'title': 'Coffee & Tea'},...     3.5           []   \n",
       "626  [{'alias': 'coffee', 'title': 'Coffee & Tea'},...     4.0           []   \n",
       "627  [{'alias': 'farmersmarket', 'title': 'Farmers ...     3.0           []   \n",
       "\n",
       "     ... coordinates_longitude    location_address1  location_address2  \\\n",
       "623  ...            144.998307          206 High St               None   \n",
       "624  ...            144.962470      15-17 Weston St                      \n",
       "625  ...            145.029225    252 Glenferrie Rd               None   \n",
       "626  ...            145.057545  2a Prospect Hill Rd                      \n",
       "627  ...            144.968196       92 Bell Street                      \n",
       "\n",
       "     location_address3  location_city location_zip_code location_country  \\\n",
       "623               None      Northcote              3070               AU   \n",
       "624                         Brunswick              3056               AU   \n",
       "625               None        Malvern              3144               AU   \n",
       "626                        Camberwell              3124               AU   \n",
       "627                            Coburg              3058               AU   \n",
       "\n",
       "    location_state                           location_display_address price  \n",
       "623            VIC  [206 High St, Northcote Victoria 3070, Australia]    $$  \n",
       "624            VIC  [15-17 Weston St, Brunswick Victoria 3056, Aus...    $$  \n",
       "625            VIC  [252 Glenferrie Rd, Malvern Victoria 3144, Aus...   $$$  \n",
       "626            VIC  [2a Prospect Hill Rd, Camberwell Victoria 3124...    $$  \n",
       "627            VIC  [92 Bell Street, Coburg Victoria 3058, Australia]   NaN  \n",
       "\n",
       "[5 rows x 24 columns]"
      ]
     },
     "execution_count": 30,
     "metadata": {},
     "output_type": "execute_result"
    }
   ],
   "source": [
    "business_df.tail()"
   ]
  },
  {
   "cell_type": "code",
   "execution_count": 31,
   "metadata": {},
   "outputs": [
    {
     "name": "stdout",
     "output_type": "stream",
     "text": [
      "Index(['id', 'alias', 'name', 'image_url', 'is_closed', 'url', 'review_count',\n",
      "       'categories', 'rating', 'transactions', 'phone', 'display_phone',\n",
      "       'distance', 'coordinates_latitude', 'coordinates_longitude',\n",
      "       'location_address1', 'location_address2', 'location_address3',\n",
      "       'location_city', 'location_zip_code', 'location_country',\n",
      "       'location_state', 'location_display_address', 'price'],\n",
      "      dtype='object')\n",
      "(628, 24)\n"
     ]
    }
   ],
   "source": [
    "print(business_df.columns)\n",
    "print(business_df.shape)"
   ]
  },
  {
   "cell_type": "code",
   "execution_count": 32,
   "metadata": {},
   "outputs": [],
   "source": [
    "# extract the columns required and creating new dataframe with them\n",
    "\n",
    "business_sub_df = business_df[['name','review_count','rating','price','coordinates_latitude','coordinates_longitude']]"
   ]
  },
  {
   "cell_type": "code",
   "execution_count": 33,
   "metadata": {},
   "outputs": [
    {
     "name": "stdout",
     "output_type": "stream",
     "text": [
      "(628, 6) \n",
      "\n",
      "Index(['name', 'review_count', 'rating', 'price', 'coordinates_latitude',\n",
      "       'coordinates_longitude'],\n",
      "      dtype='object') \n",
      "\n",
      "name                      object\n",
      "review_count               int64\n",
      "rating                   float64\n",
      "price                     object\n",
      "coordinates_latitude     float64\n",
      "coordinates_longitude    float64\n",
      "dtype: object\n"
     ]
    }
   ],
   "source": [
    "print(business_sub_df.shape, \"\\n\")\n",
    "print(business_sub_df.columns,\"\\n\")\n",
    "print(business_sub_df.dtypes)"
   ]
  },
  {
   "cell_type": "code",
   "execution_count": 34,
   "metadata": {},
   "outputs": [
    {
     "data": {
      "text/html": [
       "<div>\n",
       "<style scoped>\n",
       "    .dataframe tbody tr th:only-of-type {\n",
       "        vertical-align: middle;\n",
       "    }\n",
       "\n",
       "    .dataframe tbody tr th {\n",
       "        vertical-align: top;\n",
       "    }\n",
       "\n",
       "    .dataframe thead th {\n",
       "        text-align: right;\n",
       "    }\n",
       "</style>\n",
       "<table border=\"1\" class=\"dataframe\">\n",
       "  <thead>\n",
       "    <tr style=\"text-align: right;\">\n",
       "      <th></th>\n",
       "      <th>name</th>\n",
       "      <th>review_count</th>\n",
       "      <th>rating</th>\n",
       "      <th>price</th>\n",
       "      <th>coordinates_latitude</th>\n",
       "      <th>coordinates_longitude</th>\n",
       "    </tr>\n",
       "  </thead>\n",
       "  <tbody>\n",
       "    <tr>\n",
       "      <th>0</th>\n",
       "      <td>The Vegan Collective</td>\n",
       "      <td>2</td>\n",
       "      <td>4.0</td>\n",
       "      <td>NaN</td>\n",
       "      <td>-37.806974</td>\n",
       "      <td>144.958866</td>\n",
       "    </tr>\n",
       "    <tr>\n",
       "      <th>1</th>\n",
       "      <td>Vegan Shack</td>\n",
       "      <td>2</td>\n",
       "      <td>5.0</td>\n",
       "      <td>NaN</td>\n",
       "      <td>-37.825970</td>\n",
       "      <td>144.999040</td>\n",
       "    </tr>\n",
       "    <tr>\n",
       "      <th>2</th>\n",
       "      <td>Supercharger</td>\n",
       "      <td>20</td>\n",
       "      <td>3.5</td>\n",
       "      <td>$</td>\n",
       "      <td>-37.811933</td>\n",
       "      <td>144.963649</td>\n",
       "    </tr>\n",
       "    <tr>\n",
       "      <th>3</th>\n",
       "      <td>Seedling Cafe</td>\n",
       "      <td>3</td>\n",
       "      <td>4.5</td>\n",
       "      <td>NaN</td>\n",
       "      <td>-37.815460</td>\n",
       "      <td>144.963280</td>\n",
       "    </tr>\n",
       "    <tr>\n",
       "      <th>4</th>\n",
       "      <td>Supernormal</td>\n",
       "      <td>102</td>\n",
       "      <td>4.5</td>\n",
       "      <td>$$$</td>\n",
       "      <td>-37.815930</td>\n",
       "      <td>144.968263</td>\n",
       "    </tr>\n",
       "  </tbody>\n",
       "</table>\n",
       "</div>"
      ],
      "text/plain": [
       "                   name  review_count  rating price  coordinates_latitude  \\\n",
       "0  The Vegan Collective             2     4.0   NaN            -37.806974   \n",
       "1           Vegan Shack             2     5.0   NaN            -37.825970   \n",
       "2          Supercharger            20     3.5     $            -37.811933   \n",
       "3         Seedling Cafe             3     4.5   NaN            -37.815460   \n",
       "4           Supernormal           102     4.5   $$$            -37.815930   \n",
       "\n",
       "   coordinates_longitude  \n",
       "0             144.958866  \n",
       "1             144.999040  \n",
       "2             144.963649  \n",
       "3             144.963280  \n",
       "4             144.968263  "
      ]
     },
     "execution_count": 34,
     "metadata": {},
     "output_type": "execute_result"
    }
   ],
   "source": [
    "business_sub_df.head()"
   ]
  },
  {
   "cell_type": "code",
   "execution_count": 35,
   "metadata": {},
   "outputs": [
    {
     "data": {
      "text/html": [
       "<div>\n",
       "<style scoped>\n",
       "    .dataframe tbody tr th:only-of-type {\n",
       "        vertical-align: middle;\n",
       "    }\n",
       "\n",
       "    .dataframe tbody tr th {\n",
       "        vertical-align: top;\n",
       "    }\n",
       "\n",
       "    .dataframe thead th {\n",
       "        text-align: right;\n",
       "    }\n",
       "</style>\n",
       "<table border=\"1\" class=\"dataframe\">\n",
       "  <thead>\n",
       "    <tr style=\"text-align: right;\">\n",
       "      <th></th>\n",
       "      <th>name</th>\n",
       "      <th>review_count</th>\n",
       "      <th>rating</th>\n",
       "      <th>price</th>\n",
       "      <th>coordinates_latitude</th>\n",
       "      <th>coordinates_longitude</th>\n",
       "    </tr>\n",
       "  </thead>\n",
       "  <tbody>\n",
       "    <tr>\n",
       "      <th>623</th>\n",
       "      <td>Penny Farthing Espresso</td>\n",
       "      <td>17</td>\n",
       "      <td>4.0</td>\n",
       "      <td>$$</td>\n",
       "      <td>-37.774217</td>\n",
       "      <td>144.998307</td>\n",
       "    </tr>\n",
       "    <tr>\n",
       "      <th>624</th>\n",
       "      <td>Code Black Coffee</td>\n",
       "      <td>32</td>\n",
       "      <td>3.5</td>\n",
       "      <td>$$</td>\n",
       "      <td>-37.774721</td>\n",
       "      <td>144.962470</td>\n",
       "    </tr>\n",
       "    <tr>\n",
       "      <th>625</th>\n",
       "      <td>Caffe La Via</td>\n",
       "      <td>4</td>\n",
       "      <td>3.5</td>\n",
       "      <td>$$$</td>\n",
       "      <td>-37.857716</td>\n",
       "      <td>145.029225</td>\n",
       "    </tr>\n",
       "    <tr>\n",
       "      <th>626</th>\n",
       "      <td>Prospect Espresso</td>\n",
       "      <td>21</td>\n",
       "      <td>4.0</td>\n",
       "      <td>$$</td>\n",
       "      <td>-37.828241</td>\n",
       "      <td>145.057545</td>\n",
       "    </tr>\n",
       "    <tr>\n",
       "      <th>627</th>\n",
       "      <td>Coburg Farmers' Market</td>\n",
       "      <td>4</td>\n",
       "      <td>3.0</td>\n",
       "      <td>NaN</td>\n",
       "      <td>-37.741180</td>\n",
       "      <td>144.968196</td>\n",
       "    </tr>\n",
       "  </tbody>\n",
       "</table>\n",
       "</div>"
      ],
      "text/plain": [
       "                        name  review_count  rating price  \\\n",
       "623  Penny Farthing Espresso            17     4.0    $$   \n",
       "624        Code Black Coffee            32     3.5    $$   \n",
       "625             Caffe La Via             4     3.5   $$$   \n",
       "626        Prospect Espresso            21     4.0    $$   \n",
       "627   Coburg Farmers' Market             4     3.0   NaN   \n",
       "\n",
       "     coordinates_latitude  coordinates_longitude  \n",
       "623            -37.774217             144.998307  \n",
       "624            -37.774721             144.962470  \n",
       "625            -37.857716             145.029225  \n",
       "626            -37.828241             145.057545  \n",
       "627            -37.741180             144.968196  "
      ]
     },
     "execution_count": 35,
     "metadata": {},
     "output_type": "execute_result"
    }
   ],
   "source": [
    "business_sub_df.tail()"
   ]
  },
  {
   "cell_type": "code",
   "execution_count": null,
   "metadata": {},
   "outputs": [],
   "source": [
    "# I chose to use pandas to faltten data rather than taking this approach.\n",
    "\n",
    "# Replace None with appropriate code\n",
    "\n",
    "def prepare_data(data_list):\n",
    "    \"\"\"\n",
    "    This function takes in a list of dictionaries and prepares it\n",
    "    for analysis\n",
    "    \"\"\"\n",
    "    \n",
    "    # Make a new list to hold results\n",
    "    results = []\n",
    "    \n",
    "    for business_data in data_list:\n",
    "    \n",
    "        # Make a new dictionary to hold prepared data for this business\n",
    "        prepared_data = {}\n",
    "        \n",
    "        # Extract name, review_count, rating, and price key-value pairs\n",
    "        # from business_data and add to prepared_data\n",
    "        # If a key is not present in business_data, add it to prepared_data\n",
    "        # with an associated value of None\n",
    "        None\n",
    "    \n",
    "        # Parse and add latitude and longitude columns\n",
    "        None\n",
    "        \n",
    "        # Add to list if all values are present\n",
    "        if all(prepared_data.values()):\n",
    "            results.append(prepared_data)\n",
    "    \n",
    "    return results\n",
    "    \n",
    "# Test out function\n",
    "prepared_businesses = prepare_data(full_dataset[:5])\n",
    "prepared_businesses[:5]"
   ]
  },
  {
   "cell_type": "markdown",
   "metadata": {},
   "source": [
    "Check that your function created the correct keys:"
   ]
  },
  {
   "cell_type": "markdown",
   "metadata": {},
   "source": [
    "The following code will differ depending on your query, but there may be fewer results in the prepared list than in the full dataset (if any of them were missing data):"
   ]
  },
  {
   "cell_type": "markdown",
   "metadata": {},
   "source": [
    "Great! Now let's create a DataFrame to hold our data - this will make our cleaning and analysis easier."
   ]
  },
  {
   "cell_type": "markdown",
   "metadata": {},
   "source": [
    "To make analysis of prices easier, let's convert `price` to a numeric value indicating the number of dollar signs."
   ]
  },
  {
   "cell_type": "code",
   "execution_count": 36,
   "metadata": {},
   "outputs": [
    {
     "data": {
      "text/plain": [
       "name                       0\n",
       "review_count               0\n",
       "rating                     0\n",
       "price                    127\n",
       "coordinates_latitude       0\n",
       "coordinates_longitude      0\n",
       "dtype: int64"
      ]
     },
     "execution_count": 36,
     "metadata": {},
     "output_type": "execute_result"
    }
   ],
   "source": [
    "# Check how many NaN values and which columns those are in\n",
    "\n",
    "business_sub_df.isna().sum()"
   ]
  },
  {
   "cell_type": "code",
   "execution_count": 37,
   "metadata": {},
   "outputs": [
    {
     "name": "stdout",
     "output_type": "stream",
     "text": [
      "Percentage of Null price values: 0.20222929936305734\n"
     ]
    }
   ],
   "source": [
    "# Check % of NaN values over the total dataset. It's over 20%. Not sure if droppong NaN value is the best way to deal \n",
    "# with the missing data,howver the instruction is to drop...\n",
    "\n",
    "print('Percentage of Null price values:', len(business_sub_df[business_sub_df.price.isna()])/ len(business_sub_df))"
   ]
  },
  {
   "cell_type": "code",
   "execution_count": 38,
   "metadata": {},
   "outputs": [
    {
     "data": {
      "text/html": [
       "<div>\n",
       "<style scoped>\n",
       "    .dataframe tbody tr th:only-of-type {\n",
       "        vertical-align: middle;\n",
       "    }\n",
       "\n",
       "    .dataframe tbody tr th {\n",
       "        vertical-align: top;\n",
       "    }\n",
       "\n",
       "    .dataframe thead th {\n",
       "        text-align: right;\n",
       "    }\n",
       "</style>\n",
       "<table border=\"1\" class=\"dataframe\">\n",
       "  <thead>\n",
       "    <tr style=\"text-align: right;\">\n",
       "      <th></th>\n",
       "      <th>name</th>\n",
       "      <th>review_count</th>\n",
       "      <th>rating</th>\n",
       "      <th>price</th>\n",
       "      <th>coordinates_latitude</th>\n",
       "      <th>coordinates_longitude</th>\n",
       "    </tr>\n",
       "  </thead>\n",
       "  <tbody>\n",
       "    <tr>\n",
       "      <th>2</th>\n",
       "      <td>Supercharger</td>\n",
       "      <td>20</td>\n",
       "      <td>3.5</td>\n",
       "      <td>$</td>\n",
       "      <td>-37.811933</td>\n",
       "      <td>144.963649</td>\n",
       "    </tr>\n",
       "    <tr>\n",
       "      <th>4</th>\n",
       "      <td>Supernormal</td>\n",
       "      <td>102</td>\n",
       "      <td>4.5</td>\n",
       "      <td>$$$</td>\n",
       "      <td>-37.815930</td>\n",
       "      <td>144.968263</td>\n",
       "    </tr>\n",
       "    <tr>\n",
       "      <th>5</th>\n",
       "      <td>Neko Neko</td>\n",
       "      <td>4</td>\n",
       "      <td>4.5</td>\n",
       "      <td>$$</td>\n",
       "      <td>-37.806160</td>\n",
       "      <td>144.982820</td>\n",
       "    </tr>\n",
       "    <tr>\n",
       "      <th>6</th>\n",
       "      <td>The Vegie Bar</td>\n",
       "      <td>123</td>\n",
       "      <td>4.0</td>\n",
       "      <td>$$</td>\n",
       "      <td>-37.795856</td>\n",
       "      <td>144.979042</td>\n",
       "    </tr>\n",
       "    <tr>\n",
       "      <th>7</th>\n",
       "      <td>La Tortilleria</td>\n",
       "      <td>46</td>\n",
       "      <td>4.5</td>\n",
       "      <td>$$</td>\n",
       "      <td>-37.791395</td>\n",
       "      <td>144.935380</td>\n",
       "    </tr>\n",
       "    <tr>\n",
       "      <th>...</th>\n",
       "      <td>...</td>\n",
       "      <td>...</td>\n",
       "      <td>...</td>\n",
       "      <td>...</td>\n",
       "      <td>...</td>\n",
       "      <td>...</td>\n",
       "    </tr>\n",
       "    <tr>\n",
       "      <th>622</th>\n",
       "      <td>Sunnybrook Health Store</td>\n",
       "      <td>3</td>\n",
       "      <td>3.5</td>\n",
       "      <td>$$</td>\n",
       "      <td>-37.904082</td>\n",
       "      <td>145.042737</td>\n",
       "    </tr>\n",
       "    <tr>\n",
       "      <th>623</th>\n",
       "      <td>Penny Farthing Espresso</td>\n",
       "      <td>17</td>\n",
       "      <td>4.0</td>\n",
       "      <td>$$</td>\n",
       "      <td>-37.774217</td>\n",
       "      <td>144.998307</td>\n",
       "    </tr>\n",
       "    <tr>\n",
       "      <th>624</th>\n",
       "      <td>Code Black Coffee</td>\n",
       "      <td>32</td>\n",
       "      <td>3.5</td>\n",
       "      <td>$$</td>\n",
       "      <td>-37.774721</td>\n",
       "      <td>144.962470</td>\n",
       "    </tr>\n",
       "    <tr>\n",
       "      <th>625</th>\n",
       "      <td>Caffe La Via</td>\n",
       "      <td>4</td>\n",
       "      <td>3.5</td>\n",
       "      <td>$$$</td>\n",
       "      <td>-37.857716</td>\n",
       "      <td>145.029225</td>\n",
       "    </tr>\n",
       "    <tr>\n",
       "      <th>626</th>\n",
       "      <td>Prospect Espresso</td>\n",
       "      <td>21</td>\n",
       "      <td>4.0</td>\n",
       "      <td>$$</td>\n",
       "      <td>-37.828241</td>\n",
       "      <td>145.057545</td>\n",
       "    </tr>\n",
       "  </tbody>\n",
       "</table>\n",
       "<p>501 rows × 6 columns</p>\n",
       "</div>"
      ],
      "text/plain": [
       "                        name  review_count  rating price  \\\n",
       "2               Supercharger            20     3.5     $   \n",
       "4                Supernormal           102     4.5   $$$   \n",
       "5                  Neko Neko             4     4.5    $$   \n",
       "6              The Vegie Bar           123     4.0    $$   \n",
       "7             La Tortilleria            46     4.5    $$   \n",
       "..                       ...           ...     ...   ...   \n",
       "622  Sunnybrook Health Store             3     3.5    $$   \n",
       "623  Penny Farthing Espresso            17     4.0    $$   \n",
       "624        Code Black Coffee            32     3.5    $$   \n",
       "625             Caffe La Via             4     3.5   $$$   \n",
       "626        Prospect Espresso            21     4.0    $$   \n",
       "\n",
       "     coordinates_latitude  coordinates_longitude  \n",
       "2              -37.811933             144.963649  \n",
       "4              -37.815930             144.968263  \n",
       "5              -37.806160             144.982820  \n",
       "6              -37.795856             144.979042  \n",
       "7              -37.791395             144.935380  \n",
       "..                    ...                    ...  \n",
       "622            -37.904082             145.042737  \n",
       "623            -37.774217             144.998307  \n",
       "624            -37.774721             144.962470  \n",
       "625            -37.857716             145.029225  \n",
       "626            -37.828241             145.057545  \n",
       "\n",
       "[501 rows x 6 columns]"
      ]
     },
     "execution_count": 38,
     "metadata": {},
     "output_type": "execute_result"
    }
   ],
   "source": [
    "# Drop the rows with NaN price values\n",
    "business_sub_df.dropna()"
   ]
  },
  {
   "cell_type": "code",
   "execution_count": 39,
   "metadata": {},
   "outputs": [
    {
     "name": "stderr",
     "output_type": "stream",
     "text": [
      "<ipython-input-39-0ef697789259>:2: SettingWithCopyWarning: \n",
      "A value is trying to be set on a copy of a slice from a DataFrame.\n",
      "Try using .loc[row_indexer,col_indexer] = value instead\n",
      "\n",
      "See the caveats in the documentation: https://pandas.pydata.org/pandas-docs/stable/user_guide/indexing.html#returning-a-view-versus-a-copy\n",
      "  business_sub_df['price_num'] = business_sub_df.loc[:,'price'].str.len()\n"
     ]
    }
   ],
   "source": [
    "# convert price to a numeric value indicating the number of dollar signs and creating new column\n",
    "business_sub_df['price_num'] = business_sub_df.loc[:,'price'].str.len()"
   ]
  },
  {
   "cell_type": "code",
   "execution_count": 40,
   "metadata": {},
   "outputs": [
    {
     "data": {
      "text/plain": [
       "Index(['name', 'review_count', 'rating', 'price', 'coordinates_latitude',\n",
       "       'coordinates_longitude', 'price_num'],\n",
       "      dtype='object')"
      ]
     },
     "execution_count": 40,
     "metadata": {},
     "output_type": "execute_result"
    }
   ],
   "source": [
    "business_sub_df.columns # check the columns of updated dataframe"
   ]
  },
  {
   "cell_type": "markdown",
   "metadata": {},
   "source": [
    "##4. Perform Descriptive Analysis\n",
    "\n",
    "## Descriptive Statistics\n",
    "\n",
    "Take the businesses from the previous question and do an initial descriptive analysis. Calculate summary statistics for the review counts, average rating, and price."
   ]
  },
  {
   "cell_type": "code",
   "execution_count": 41,
   "metadata": {
    "scrolled": true
   },
   "outputs": [
    {
     "data": {
      "text/html": [
       "<div>\n",
       "<style scoped>\n",
       "    .dataframe tbody tr th:only-of-type {\n",
       "        vertical-align: middle;\n",
       "    }\n",
       "\n",
       "    .dataframe tbody tr th {\n",
       "        vertical-align: top;\n",
       "    }\n",
       "\n",
       "    .dataframe thead th {\n",
       "        text-align: right;\n",
       "    }\n",
       "</style>\n",
       "<table border=\"1\" class=\"dataframe\">\n",
       "  <thead>\n",
       "    <tr style=\"text-align: right;\">\n",
       "      <th></th>\n",
       "      <th>review_count</th>\n",
       "      <th>rating</th>\n",
       "      <th>coordinates_latitude</th>\n",
       "      <th>coordinates_longitude</th>\n",
       "      <th>price_num</th>\n",
       "    </tr>\n",
       "  </thead>\n",
       "  <tbody>\n",
       "    <tr>\n",
       "      <th>count</th>\n",
       "      <td>628.0</td>\n",
       "      <td>628.0</td>\n",
       "      <td>628.0</td>\n",
       "      <td>628.0</td>\n",
       "      <td>501.0</td>\n",
       "    </tr>\n",
       "    <tr>\n",
       "      <th>mean</th>\n",
       "      <td>14.0</td>\n",
       "      <td>4.0</td>\n",
       "      <td>-38.0</td>\n",
       "      <td>145.0</td>\n",
       "      <td>2.0</td>\n",
       "    </tr>\n",
       "    <tr>\n",
       "      <th>std</th>\n",
       "      <td>20.0</td>\n",
       "      <td>1.0</td>\n",
       "      <td>0.0</td>\n",
       "      <td>0.0</td>\n",
       "      <td>1.0</td>\n",
       "    </tr>\n",
       "    <tr>\n",
       "      <th>min</th>\n",
       "      <td>1.0</td>\n",
       "      <td>1.0</td>\n",
       "      <td>-38.0</td>\n",
       "      <td>145.0</td>\n",
       "      <td>1.0</td>\n",
       "    </tr>\n",
       "    <tr>\n",
       "      <th>25%</th>\n",
       "      <td>3.0</td>\n",
       "      <td>4.0</td>\n",
       "      <td>-38.0</td>\n",
       "      <td>145.0</td>\n",
       "      <td>1.0</td>\n",
       "    </tr>\n",
       "    <tr>\n",
       "      <th>50%</th>\n",
       "      <td>7.0</td>\n",
       "      <td>4.0</td>\n",
       "      <td>-38.0</td>\n",
       "      <td>145.0</td>\n",
       "      <td>2.0</td>\n",
       "    </tr>\n",
       "    <tr>\n",
       "      <th>75%</th>\n",
       "      <td>17.0</td>\n",
       "      <td>4.0</td>\n",
       "      <td>-38.0</td>\n",
       "      <td>145.0</td>\n",
       "      <td>2.0</td>\n",
       "    </tr>\n",
       "    <tr>\n",
       "      <th>max</th>\n",
       "      <td>218.0</td>\n",
       "      <td>5.0</td>\n",
       "      <td>-38.0</td>\n",
       "      <td>145.0</td>\n",
       "      <td>4.0</td>\n",
       "    </tr>\n",
       "  </tbody>\n",
       "</table>\n",
       "</div>"
      ],
      "text/plain": [
       "       review_count  rating  coordinates_latitude  coordinates_longitude  \\\n",
       "count         628.0   628.0                 628.0                  628.0   \n",
       "mean           14.0     4.0                 -38.0                  145.0   \n",
       "std            20.0     1.0                   0.0                    0.0   \n",
       "min             1.0     1.0                 -38.0                  145.0   \n",
       "25%             3.0     4.0                 -38.0                  145.0   \n",
       "50%             7.0     4.0                 -38.0                  145.0   \n",
       "75%            17.0     4.0                 -38.0                  145.0   \n",
       "max           218.0     5.0                 -38.0                  145.0   \n",
       "\n",
       "       price_num  \n",
       "count      501.0  \n",
       "mean         2.0  \n",
       "std          1.0  \n",
       "min          1.0  \n",
       "25%          1.0  \n",
       "50%          2.0  \n",
       "75%          2.0  \n",
       "max          4.0  "
      ]
     },
     "execution_count": 41,
     "metadata": {},
     "output_type": "execute_result"
    }
   ],
   "source": [
    "# Replace None with appropriate code\n",
    "\n",
    "# Calculate summary statistics for the review counts, average rating, and price\n",
    "business_sub_df.describe().round()"
   ]
  },
  {
   "cell_type": "code",
   "execution_count": 42,
   "metadata": {},
   "outputs": [
    {
     "data": {
      "text/plain": [
       "7.0"
      ]
     },
     "execution_count": 42,
     "metadata": {},
     "output_type": "execute_result"
    }
   ],
   "source": [
    "business_sub_df['review_count'].median()"
   ]
  },
  {
   "cell_type": "code",
   "execution_count": 43,
   "metadata": {},
   "outputs": [
    {
     "data": {
      "text/plain": [
       "4.0"
      ]
     },
     "execution_count": 43,
     "metadata": {},
     "output_type": "execute_result"
    }
   ],
   "source": [
    "business_sub_df['rating'].median()"
   ]
  },
  {
   "cell_type": "code",
   "execution_count": 44,
   "metadata": {},
   "outputs": [
    {
     "data": {
      "text/plain": [
       "2.0"
      ]
     },
     "execution_count": 44,
     "metadata": {},
     "output_type": "execute_result"
    }
   ],
   "source": [
    "business_sub_df['price_num'].median()"
   ]
  },
  {
   "cell_type": "markdown",
   "metadata": {},
   "source": [
    "Describe the results displayed above and interpret them in the context of your query. (Your answer may differ from the solution branch depending on your query.)"
   ]
  },
  {
   "cell_type": "code",
   "execution_count": null,
   "metadata": {},
   "outputs": [],
   "source": [
    "# Replace None with appropriate text\n",
    "\"\"\"\n",
    "In relation to review counts, whilst average count is the mean of 14, the median value is 7. \n",
    "There must be some ontliers that the restaurants with very large number of reviews skewing the average count higher. \n",
    "This can be confirmed with the minimum reveiw count being 1, where the maximum review count being 218.\n",
    "Standard deviation of 20 is large. This could suggest that count of reviews vary diffrently from \n",
    "restanraunt to restaurants. \n",
    "\n",
    "For both rating and price the mean and the median are the same value. Also both of the columns standard diviation is 1.\n",
    "These facts suggest that both rating and price data are relatively normally distributed.\n",
    "\n",
    "\"\"\""
   ]
  },
  {
   "cell_type": "markdown",
   "metadata": {},
   "source": [
    "## Histograms\n",
    "\n",
    "Create histograms for the review counts, average rating, and price."
   ]
  },
  {
   "cell_type": "code",
   "execution_count": 45,
   "metadata": {},
   "outputs": [
    {
     "data": {
      "image/png": "[encoded data removed]",
      "text/plain": [
       "<Figure size 1152x360 with 3 Axes>"
      ]
     },
     "metadata": {
      "needs_background": "light"
     },
     "output_type": "display_data"
    }
   ],
   "source": [
    "# Replace None with your code\n",
    "import matplotlib.pyplot as plt\n",
    "%matplotlib inline\n",
    "\n",
    "fig, (ax1, ax2, ax3) = plt.subplots(ncols=3, figsize=(16, 5))\n",
    "\n",
    "# Plot distribution of number of reviews per business\n",
    "all_review_counts = business_sub_df['review_count'].plot(ax=ax1, edgecolor='black', kind= 'hist', bins = 20)\n",
    "ax1.set_title('Number of reviews')\n",
    "\n",
    "# Plot distribution of ratings across businesses\n",
    "all_ratings = business_sub_df['rating'].plot(ax=ax2, color='orange', edgecolor='black', kind= 'hist', bins=10)\n",
    "ax2.set_title('Ratings')\n",
    "\n",
    "# Plot distribution of prices across businesses\n",
    "all_prices = business_sub_df['price_num'].plot(ax=ax3, color='green', edgecolor='black', kind= 'hist', bins=5)\n",
    "ax3.set_title('Price');"
   ]
  },
  {
   "cell_type": "markdown",
   "metadata": {},
   "source": [
    "Describe the distributions displayed above and interpret them in the context of your query. (Your answer may differ from the solution branch depending on your query.)"
   ]
  },
  {
   "cell_type": "code",
   "execution_count": null,
   "metadata": {},
   "outputs": [],
   "source": [
    "# Replace None with appropriate text\n",
    "\"\"\"\n",
    "Majority of the restaurants have small number of reviews. \n",
    "There are very small number of restaurants with high volume of \n",
    "reviews.\n",
    "\n",
    "As observed previously, ratings is relatively normally distributed with large number of restaurants have 4 star reviews.\n",
    "Majority of restanrants are reviewed between 3 stars to 5 stars this is proven with the standard deviation being 1.\n",
    "\n",
    "This shows that majority of Melburne's vegan restaurants serve quite affordable meal with their level of price being\n",
    "rated from 1 to 2 out of 5 (i.e. $ to $$).  \n",
    "\n",
    "\n",
    "\"\"\""
   ]
  },
  {
   "cell_type": "markdown",
   "metadata": {},
   "source": [
    "## Ratings vs. Price\n",
    "\n",
    "Create a visualization showing the relationship between rating and price. You can do this a few different ways - one option could be to show the average price at each rating using a bar chart."
   ]
  },
  {
   "cell_type": "code",
   "execution_count": 46,
   "metadata": {},
   "outputs": [
    {
     "data": {
      "image/png": "[encoded data removed]",
      "text/plain": [
       "<Figure size 432x288 with 1 Axes>"
      ]
     },
     "metadata": {
      "needs_background": "light"
     },
     "output_type": "display_data"
    }
   ],
   "source": [
    "fig, ax = plt.subplots()\n",
    "\n",
    "ax.scatter(business_sub_df['rating'], business_sub_df['price_num'])\n",
    "\n",
    "ax.set_title(\"Rating vs Price\")\n",
    "ax.set_xlabel(\"Rating\")\n",
    "ax.set_ylabel(\"Price\");"
   ]
  },
  {
   "cell_type": "code",
   "execution_count": 47,
   "metadata": {},
   "outputs": [
    {
     "data": {
      "image/png": "[encoded data removed]",
      "text/plain": [
       "<Figure size 432x288 with 1 Axes>"
      ]
     },
     "metadata": {
      "needs_background": "light"
     },
     "output_type": "display_data"
    }
   ],
   "source": [
    "# Replace None with your code # DO THIS AGAIN!!!\n",
    "\n",
    "# Calculate average price for each rating\n",
    "rating_price_count = business_sub_df.groupby('rating').agg({'price_num': 'mean'})\n",
    "\n",
    "# Plot results\n",
    "fig, ax = plt.subplots()\n",
    "ax.bar(x = list(rating_price_count.index), height = list(rating_price_count['price_num']), width = 0.3)\n",
    "ax.set_xlabel(\"Average Rating\")\n",
    "ax.set_ylabel(\"Average price\");"
   ]
  },
  {
   "cell_type": "markdown",
   "metadata": {},
   "source": [
    "Is a higher price associated with a higher rating? (No need for any additional math/statistics, just interpret what you see in the plot.)"
   ]
  },
  {
   "cell_type": "code",
   "execution_count": null,
   "metadata": {},
   "outputs": [],
   "source": [
    "# Replace None with appropriate text\n",
    "\"\"\"\n",
    "No. According to the above two charts there is no correlation between price and rating.\n",
    "\n",
    "\"\"\""
   ]
  },
  {
   "cell_type": "markdown",
   "metadata": {},
   "source": [
    "## Ratings vs Review Counts\n",
    "\n",
    "Finally, let's look at ratings vs. review counts. You can analyze this relationship similarly to ratings vs. price."
   ]
  },
  {
   "cell_type": "code",
   "execution_count": 48,
   "metadata": {},
   "outputs": [
    {
     "data": {
      "image/png": "[encoded data removed]",
      "text/plain": [
       "<Figure size 432x288 with 1 Axes>"
      ]
     },
     "metadata": {
      "needs_background": "light"
     },
     "output_type": "display_data"
    }
   ],
   "source": [
    "# Replace None with your code\n",
    "\n",
    "# Calculate average review count for each rating\n",
    "rating_review_count = business_sub_df.groupby('rating').agg({'review_count': 'mean'})\n",
    "\n",
    "# Plot results\n",
    "fig, ax = plt.subplots()\n",
    "ax.bar(x = list(rating_review_count.index), height = list(rating_review_count['review_count']), width = 0.3)\n",
    "ax.set_xlabel(\"Average Rating\")\n",
    "ax.set_ylabel(\"Average Review Count\");"
   ]
  },
  {
   "cell_type": "markdown",
   "metadata": {},
   "source": [
    "Is a higher number of reviews associated with a higher rating?"
   ]
  },
  {
   "cell_type": "code",
   "execution_count": null,
   "metadata": {},
   "outputs": [],
   "source": [
    "# Replace None with appropriate text\n",
    "\"\"\"\n",
    "The above chart suggests that there is a correlation between number of review count and rating.\n",
    "The restaurants with high volume of reviews tend to have higher review rating and vise versa.\n",
    "\n",
    "Except for the restaurants with 5 star reviews, which don't appear to be that many.\n",
    "\"\"\""
   ]
  },
  {
   "cell_type": "markdown",
   "metadata": {},
   "source": [
    "## Level Up: Create a Folium Map\n",
    "\n",
    "Make a map using Folium of the businesses you retrieved. Be sure to also add popups to the markers giving some basic information such as name, rating and price.\n",
    "\n",
    "You can center the map around the latitude and longitude of the first item in your dataset."
   ]
  },
  {
   "cell_type": "code",
   "execution_count": 49,
   "metadata": {},
   "outputs": [
    {
     "data": {
      "text/html": [
       "<div style=\"width:100%;\"><div style=\"position:relative;width:100%;height:0;padding-bottom:60%;\"><span style=\"color:#565656\">Make this Notebook Trusted to load map: File -> Trust Notebook</span><iframe src=\"about:blank\" style=\"position:absolute;width:100%;height:100%;left:0;top:0;border:none !important;\" data-html=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 onload=\"this.contentDocument.open();this.contentDocument.write(atob(this.getAttribute('data-html')));this.contentDocument.close();\" allowfullscreen webkitallowfullscreen mozallowfullscreen></iframe></div></div>"
      ],
      "text/plain": [
       "<folium.folium.Map at 0x20fc0fbfdc0>"
      ]
     },
     "execution_count": 49,
     "metadata": {},
     "output_type": "execute_result"
    }
   ],
   "source": [
    "# Replace None with appropriate code\n",
    "\n",
    "# Import the library\n",
    "import folium\n",
    "\n",
    "# Set up center latitude and longitude = Melbourne CBD\n",
    "center_lat = -37.8136\n",
    "center_long = 144.9631\n",
    "\n",
    "# Initialize map with center lat and long\n",
    "yelp_map = folium.Map([center_lat, center_long], zoom_start=13)\n",
    "\n",
    "# Adjust this limit to see more or fewer businesses\n",
    "limit=100\n",
    "\n",
    "for business in full_dataset[:limit]:\n",
    "    # Extract information about business\n",
    "    lat = business['coordinates']['latitude']\n",
    "    long = business['coordinates']['longitude']\n",
    "    name = business['name']\n",
    "    rating = business['rating']\n",
    "    \n",
    "    if 'price' in business:\n",
    "        price = business['price']\n",
    "    else:\n",
    "        price = \"No price info\"\n",
    "   \n",
    "\n",
    "    # Create popup with relevant details\n",
    "    popup_text = \"Name: {}, Price:{}, Rating: {}\".format(name,price,rating)\n",
    "    popup = folium.Popup(popup_text, parse_html=True)\n",
    "  \n",
    "    \n",
    "    # Create marker with relevant lat/long and popup\n",
    "    marker = folium.Marker(location=[lat,long], popup=popup)\n",
    "    \n",
    "    marker.add_to(yelp_map)\n",
    "    \n",
    "yelp_map"
   ]
  },
  {
   "cell_type": "markdown",
   "metadata": {},
   "source": [
    "# 5. Create Presentation Notebook\n",
    "\n",
    "Now that you've completed your project, let's put it into an easily presentable format so you can add it to your portfolio. To do this, we recommend completing the following steps outside of this notebook.\n",
    "\n",
    "1. Create a new GitHub repository for your project.\n",
    "2. Save a copy of this notebook into your local repository.\n",
    "3. Edit the text and images in the notebook to present your project and help someone else understand it.\n",
    "4. Run your notebook from start to finish, then **delete your API key** and save it.\n",
    "5. Create a README.md file in your repository with a brief summary of your project.\n",
    "6. Push your updated repository to GitHub to share with your instructor and employers!"
   ]
  },
  {
   "cell_type": "markdown",
   "metadata": {},
   "source": [
    "# Level Up: Project Enhancements\n",
    "\n",
    "After completing the project, you could consider the following enhancements if you have time:\n",
    "\n",
    "* Save a cleaned version of your dataset in your repository, then modify the notebook to load and use that dataset for the analysis. This will allow others to replicate your analysis and avoid running their own API queries.\n",
    "* Use `seaborn` to improve the styling of your visualizations\n",
    "* Explain the implications of your findings for business owners or internal Yelp staff\n",
    "* Repeat the project for another business category or location, and compare the results"
   ]
  },
  {
   "cell_type": "markdown",
   "metadata": {},
   "source": [
    "# Summary\n",
    "\n",
    "Nice work! In this lab, you've made multiple API calls to Yelp in order to paginate through a results set, prepared your data for analysis, and then conducted and visualized descriptive analyses. Well done!"
   ]
  }
 ],
 "metadata": {
  "kernelspec": {
   "display_name": "Python 3",
   "language": "python",
   "name": "python3"
  },
  "language_info": {
   "codemirror_mode": {
    "name": "ipython",
    "version": 3
   },
   "file_extension": ".py",
   "mimetype": "text/x-python",
   "name": "python",
   "nbconvert_exporter": "python",
   "pygments_lexer": "ipython3",
   "version": "3.8.5"
  },
  "toc": {
   "base_numbering": 1,
   "nav_menu": {},
   "number_sections": true,
   "sideBar": true,
   "skip_h1_title": false,
   "title_cell": "Table of Contents",
   "title_sidebar": "Contents",
   "toc_cell": false,
   "toc_position": {},
   "toc_section_display": true,
   "toc_window_display": false
  }
 },
 "nbformat": 4,
 "nbformat_minor": 2
}
